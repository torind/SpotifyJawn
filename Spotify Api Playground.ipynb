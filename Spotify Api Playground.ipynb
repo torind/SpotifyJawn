{
 "cells": [
  {
   "cell_type": "code",
   "execution_count": 86,
   "id": "prostate-driver",
   "metadata": {
    "ExecuteTime": {
     "end_time": "2021-02-25T20:46:03.832667Z",
     "start_time": "2021-02-25T20:46:03.019601Z"
    }
   },
   "outputs": [],
   "source": [
    "import tekore as tk\n",
    "import pandas as pd\n",
    "from tqdm.notebook import tqdm\n",
    "\n",
    "from collections import defaultdict \n",
    "\n",
    "CliendId     = '96fb8ea3b71941558b9adc070bca36d6'\n",
    "ClientSecret = 'b4a837c43e144200ae8d721b59e9203b'"
   ]
  },
  {
   "cell_type": "code",
   "execution_count": 2,
   "id": "difficult-ladder",
   "metadata": {
    "ExecuteTime": {
     "end_time": "2021-02-25T20:14:11.144696Z",
     "start_time": "2021-02-25T20:14:03.866032Z"
    }
   },
   "outputs": [
    {
     "name": "stdout",
     "output_type": "stream",
     "text": [
      "Opening browser for Spotify login...\n",
      "Please paste redirect URL: https://example.com/callback?code=AQB5dQ87q_xS8ylUWxjXx_eTwfs82UqXlcnzONZXh6umjn0TsdsjOgCBvhK2g8DFE-f3N9KsYT8KgZhesCZaviXK1rmnUZ_YjF_CDJlElk2d-UoyGlQ1fdV3gDkBMx4dWj7i8omwU-9TPWxVKh9O4xH5Xdkd7IF7Y6mnRL02qy7CeFZ2yZx1_kKwLWlemdoK8qUEv20LGBOzqe498Pnc8Ts4xCBbzNEIqfbFiImsxh1gxnxHwM5u-NDgiDqdkwop5O6i7oHuNcv3jT5w2cBKrH4GX0uKcd9qwLuCGQ-33OrtzotEM7BEEjCjPkV_a1iPZLrlUSOPuSEB17ohpvI8QjUdIO2dx33iGz4b1YDHSGleOtT3OsL-5CMCi89iOIr3MjxWXlgcY3tfigOWlFE2M45ZHWqKUYR82hY3wgXX26_qahTVXDvMjCZHSMUND94vrNSEdW2z3fhfYWEKwZnb1vuPqPqg23EB1iRAY08zUxE42A4AbsFVzdB7CbuI2A0mcjxWuOCvappQ45u3Ccbl5ywYSk0xydxCxNDNL2W4z1UzPJXvpO5uNz2hrAX6nmY-KBC5pYMd39oGzbuAvyGqHlmWY26L9RyWgNSVSOypou3EdVIpKGVTBVt_YilLCPVUarmRgOQdK9hRZbuu3EUNGL8DxRnJhOhGk_o5K4pAocjgsoU&state=aFoUBwXVidhI6HbhgYmjJ1Ud2EXqlUgL4F0QEqLgafs\n"
     ]
    }
   ],
   "source": [
    "UserToken = tk.prompt_for_user_token(\n",
    "    CliendId,\n",
    "    ClientSecret,\n",
    "    'https://example.com/callback',\n",
    "    scope=tk.scope.every\n",
    ")\n",
    "\n",
    "Spotify = tk.Spotify(UserToken)\n",
    "\n",
    "UserDisplayName = Spotify.current_user().display_name"
   ]
  },
  {
   "cell_type": "markdown",
   "id": "ca0e3540",
   "metadata": {},
   "source": [
    "# Helper Functions"
   ]
  },
  {
   "cell_type": "code",
   "execution_count": 41,
   "id": "d7551264",
   "metadata": {},
   "outputs": [],
   "source": [
    "def GetTracksForGenre(LookupGenre):\n",
    "    TracksForGenre = []\n",
    "    \n",
    "    for Track in Tracks:\n",
    "        for Artist in Track.track.artists:\n",
    "            Genre = ArtistGenres[Artist.id]\n",
    "            \n",
    "            if Genre != 'no genre':\n",
    "                break\n",
    "        \n",
    "        if Genre == LookupGenre:\n",
    "            TrackArtists = ', '.join([x.name for x in Track.track.artists])\n",
    "            TracksForGenre += ['{} - {}'.format(Track.track.name, TrackArtists)]\n",
    "    \n",
    "    return TracksForGenre"
   ]
  },
  {
   "cell_type": "markdown",
   "id": "d4000777",
   "metadata": {},
   "source": [
    "# Create Genre Playlists"
   ]
  },
  {
   "cell_type": "code",
   "execution_count": 43,
   "id": "banner-niagara",
   "metadata": {
    "ExecuteTime": {
     "end_time": "2021-02-25T20:35:14.677944Z",
     "start_time": "2021-02-25T20:34:58.043384Z"
    }
   },
   "outputs": [],
   "source": [
    "Tracks = [x for x in Spotify.all_items(Spotify.saved_tracks())]\n",
    "ArtistGenres = {}"
   ]
  },
  {
   "cell_type": "code",
   "execution_count": 44,
   "id": "detected-jordan",
   "metadata": {
    "ExecuteTime": {
     "end_time": "2021-02-25T21:01:14.166750Z",
     "start_time": "2021-02-25T21:01:11.760777Z"
    }
   },
   "outputs": [],
   "source": [
    "Data = defaultdict(list)\n",
    "Artists = set()\n",
    "\n",
    "# Get all of the unique artists in the tracks\n",
    "for Track in Tracks:\n",
    "    for Artist in Track.track.artists:\n",
    "        Artists.add(Artist.id)\n",
    "\n",
    "Artists = list(Artists)\n",
    "\n",
    "# Batch the artists before looking them up\n",
    "BatchSize = 50\n",
    "ArtistIdBatches = [Artists[i:i+BatchSize] for i in range(0, len(Artists), BatchSize)]\n",
    "\n",
    "# Look up and record each artist's genre\n",
    "for Batch in ArtistIdBatches:\n",
    "    Artists = Spotify.artists(Batch)\n",
    "    \n",
    "    for Artist in Artists:\n",
    "        Genre = Artist.genres[0] if len(Artist.genres) > 0 else 'no genre'\n",
    "        ArtistGenres[Artist.id] = Genre"
   ]
  },
  {
   "cell_type": "code",
   "execution_count": 59,
   "id": "voluntary-welsh",
   "metadata": {
    "ExecuteTime": {
     "end_time": "2021-02-25T22:02:06.941961Z",
     "start_time": "2021-02-25T22:02:06.918797Z"
    }
   },
   "outputs": [],
   "source": [
    "# Come up with one track per genre\n",
    "GenreTracks = {}\n",
    "GenreCount = defaultdict(int)\n",
    "\n",
    "for Track in Tracks:\n",
    "    for Artist in Track.track.artists:\n",
    "        Genre = ArtistGenres[Artist.id]\n",
    "        \n",
    "        if Genre != 'no genre':\n",
    "            break\n",
    "    \n",
    "    GenreCount[Genre] += 1\n",
    "    if Genre not in GenreTracks:\n",
    "        GenreTracks[Genre] = Track.track.name    \n",
    "        \n",
    "GenreTracks = {'Genre' : list(GenreTracks.keys()), 'Count' : list(GenreCount.values()), 'Track' : list(GenreTracks.values())}"
   ]
  },
  {
   "cell_type": "code",
   "execution_count": 60,
   "id": "ff514b7f",
   "metadata": {
    "ExecuteTime": {
     "end_time": "2021-02-25T22:02:23.548565Z",
     "start_time": "2021-02-25T22:02:23.326026Z"
    }
   },
   "outputs": [],
   "source": [
    "# Make sure you have a mapping for all genres\n",
    "AllGenres = set(ArtistGenres.values())\n",
    "\n",
    "AllGenreMapping = pd.DataFrame(GenreTracks)\n",
    "AllGenreMapping = AllGenreMapping.set_index('Genre')"
   ]
  },
  {
   "cell_type": "code",
   "execution_count": 68,
   "id": "23cab935",
   "metadata": {
    "ExecuteTime": {
     "end_time": "2021-02-25T22:02:23.548565Z",
     "start_time": "2021-02-25T22:02:23.326026Z"
    }
   },
   "outputs": [
    {
     "name": "stdout",
     "output_type": "stream",
     "text": [
      "There are 0 genres that need to be mapped\n"
     ]
    }
   ],
   "source": [
    "# Export new genres to csv to be updated\n",
    "ExistingGenreMapping = pd.read_csv('GenreMapping.csv', index_col='Genre')\n",
    "\n",
    "AllGenreMappingWithKeys = AllGenreMapping.join(ExistingGenreMapping['Mapping'])\n",
    "AllGenreMappingWithKeys.to_csv('GenreMapping.csv')\n",
    "\n",
    "print('There are {} genres that need to be mapped'.format(AllGenreMappingWithKeys['Mapping'].isna().sum()))"
   ]
  },
  {
   "cell_type": "code",
   "execution_count": 80,
   "id": "addressed-think",
   "metadata": {
    "ExecuteTime": {
     "end_time": "2021-02-25T22:02:23.548565Z",
     "start_time": "2021-02-25T22:02:23.326026Z"
    },
    "scrolled": false
   },
   "outputs": [],
   "source": [
    "FullGenreMapping = pd.read_csv('GenreMapping.csv', index_col='Genre')\n",
    "\n",
    "assert(AllGenreMapping.isna().sum().sum() == 0), 'Some genres are not mapped.'"
   ]
  },
  {
   "cell_type": "code",
   "execution_count": 76,
   "id": "complicated-accreditation",
   "metadata": {
    "ExecuteTime": {
     "end_time": "2021-02-25T22:10:12.917723Z",
     "start_time": "2021-02-25T22:10:11.364783Z"
    }
   },
   "outputs": [],
   "source": [
    "# Create playlists for genre mapping\n",
    "ExistingPlaylists = Spotify.all_items(Spotify.followed_playlists())\n",
    "\n",
    "MappingPlaylistId = dict.fromkeys(FullGenreMapping['Mapping'], None)\n",
    "\n",
    "# Get destination playlist for each mapping\n",
    "for Playlist in ExistingPlaylists:\n",
    "    if Playlist.owner.display_name == UserDisplayName:\n",
    "\n",
    "        if Playlist.name in MappingPlaylistId:\n",
    "            assert(MappingPlaylistId[Playlist.name] is None), f'Playlist {playlist.name} has multiple mappings.'\n",
    "            \n",
    "            MappingPlaylistId[Playlist.name] = Playlist.id\n",
    "\n",
    "# Make sure no genre mapping is missing a playlist\n",
    "for k, v in MappingPlaylistId.items():\n",
    "    if v is None:\n",
    "        Playlist = Spotify.playlist_create(Spotify.current_user().id,\n",
    "                                            k,\n",
    "                                            False,\n",
    "                                            '''\n",
    "                                            A playlist created by SpotifyPlaylistBuilder to house all \n",
    "                                            of your tracks that are in the {} genre\n",
    "                                            '''.format(k))\n",
    "        \n",
    "        MappingPlaylistId[k] = Playlist.id"
   ]
  },
  {
   "cell_type": "code",
   "execution_count": 77,
   "id": "lesser-leonard",
   "metadata": {
    "ExecuteTime": {
     "end_time": "2021-02-25T22:28:24.559205Z",
     "start_time": "2021-02-25T22:28:22.969595Z"
    }
   },
   "outputs": [],
   "source": [
    "# Clear all genre mapping playlists\n",
    "for PlaylistId in MappingPlaylistId.values():\n",
    "    Spotify.playlist_clear(PlaylistId)"
   ]
  },
  {
   "cell_type": "code",
   "execution_count": 81,
   "id": "sexual-rabbit",
   "metadata": {
    "ExecuteTime": {
     "end_time": "2021-02-25T22:37:30.400487Z",
     "start_time": "2021-02-25T22:37:30.191892Z"
    }
   },
   "outputs": [],
   "source": [
    "# Get a list of tracks to add for each genre\n",
    "CategoryTracks = {c : [] for c in FullGenreMapping['Mapping'].drop_duplicates().values}\n",
    "\n",
    "TrackData = {k : [] for k in ['Track', 'Genre', 'Category']}\n",
    "\n",
    "for Track in Tracks:\n",
    "    Genre = ArtistGenres[Track.track.artists[0].id]\n",
    "    Category = FullGenreMapping.loc[Genre]['Mapping']\n",
    "    CategoryTracks[Category] += [Track.track.uri]\n",
    "    \n",
    "    TrackData['Track'] += [Track.track.name]\n",
    "    TrackData['Genre'] += [Genre]\n",
    "    TrackData['Category'] += [Category]\n",
    "    \n",
    "TrackData = pd.DataFrame(TrackData)\n",
    "TrackData.to_csv('TrackData.csv')"
   ]
  },
  {
   "cell_type": "code",
   "execution_count": 88,
   "id": "backed-episode",
   "metadata": {
    "ExecuteTime": {
     "end_time": "2021-02-25T22:31:02.771048Z",
     "start_time": "2021-02-25T22:30:54.681119Z"
    }
   },
   "outputs": [
    {
     "data": {
      "application/vnd.jupyter.widget-view+json": {
       "model_id": "4d1137692ea849f8b6199563f0221cd5",
       "version_major": 2,
       "version_minor": 0
      },
      "text/plain": [
       "  0%|          | 0/10 [00:00<?, ?it/s]"
      ]
     },
     "metadata": {},
     "output_type": "display_data"
    },
    {
     "data": {
      "application/vnd.jupyter.widget-view+json": {
       "model_id": "",
       "version_major": 2,
       "version_minor": 0
      },
      "text/plain": [
       "  0%|          | 0/19 [00:00<?, ?it/s]"
      ]
     },
     "metadata": {},
     "output_type": "display_data"
    },
    {
     "data": {
      "application/vnd.jupyter.widget-view+json": {
       "model_id": "",
       "version_major": 2,
       "version_minor": 0
      },
      "text/plain": [
       "  0%|          | 0/24 [00:00<?, ?it/s]"
      ]
     },
     "metadata": {},
     "output_type": "display_data"
    },
    {
     "data": {
      "application/vnd.jupyter.widget-view+json": {
       "model_id": "",
       "version_major": 2,
       "version_minor": 0
      },
      "text/plain": [
       "  0%|          | 0/6 [00:00<?, ?it/s]"
      ]
     },
     "metadata": {},
     "output_type": "display_data"
    },
    {
     "data": {
      "application/vnd.jupyter.widget-view+json": {
       "model_id": "",
       "version_major": 2,
       "version_minor": 0
      },
      "text/plain": [
       "  0%|          | 0/1 [00:00<?, ?it/s]"
      ]
     },
     "metadata": {},
     "output_type": "display_data"
    },
    {
     "data": {
      "application/vnd.jupyter.widget-view+json": {
       "model_id": "",
       "version_major": 2,
       "version_minor": 0
      },
      "text/plain": [
       "  0%|          | 0/1 [00:00<?, ?it/s]"
      ]
     },
     "metadata": {},
     "output_type": "display_data"
    },
    {
     "data": {
      "application/vnd.jupyter.widget-view+json": {
       "model_id": "",
       "version_major": 2,
       "version_minor": 0
      },
      "text/plain": [
       "  0%|          | 0/1 [00:00<?, ?it/s]"
      ]
     },
     "metadata": {},
     "output_type": "display_data"
    },
    {
     "data": {
      "application/vnd.jupyter.widget-view+json": {
       "model_id": "",
       "version_major": 2,
       "version_minor": 0
      },
      "text/plain": [
       "  0%|          | 0/2 [00:00<?, ?it/s]"
      ]
     },
     "metadata": {},
     "output_type": "display_data"
    },
    {
     "data": {
      "application/vnd.jupyter.widget-view+json": {
       "model_id": "",
       "version_major": 2,
       "version_minor": 0
      },
      "text/plain": [
       "  0%|          | 0/8 [00:00<?, ?it/s]"
      ]
     },
     "metadata": {},
     "output_type": "display_data"
    },
    {
     "data": {
      "application/vnd.jupyter.widget-view+json": {
       "model_id": "",
       "version_major": 2,
       "version_minor": 0
      },
      "text/plain": [
       "  0%|          | 0/2 [00:00<?, ?it/s]"
      ]
     },
     "metadata": {},
     "output_type": "display_data"
    },
    {
     "data": {
      "application/vnd.jupyter.widget-view+json": {
       "model_id": "",
       "version_major": 2,
       "version_minor": 0
      },
      "text/plain": [
       "  0%|          | 0/1 [00:00<?, ?it/s]"
      ]
     },
     "metadata": {},
     "output_type": "display_data"
    }
   ],
   "source": [
    "for c, ts in tqdm(CategoryTracks.items()):\n",
    "    PlaylistId = MappingPlaylistId[c]\n",
    "\n",
    "    # Batch the artists before looking them up\n",
    "    BatchSize = 50\n",
    "    TrackUriBatches = [ts[i:i+BatchSize] for i in range(0, len(ts), BatchSize)]\n",
    "    \n",
    "    for Batch in tqdm(TrackUriBatches, leave=False):\n",
    "        Spotify.playlist_add(PlaylistId, Batch)"
   ]
  },
  {
   "cell_type": "code",
   "execution_count": null,
   "id": "0f7f932d",
   "metadata": {},
   "outputs": [],
   "source": []
  }
 ],
 "metadata": {
  "kernelspec": {
   "display_name": "Python 3 (ipykernel)",
   "language": "python",
   "name": "python3"
  },
  "language_info": {
   "codemirror_mode": {
    "name": "ipython",
    "version": 3
   },
   "file_extension": ".py",
   "mimetype": "text/x-python",
   "name": "python",
   "nbconvert_exporter": "python",
   "pygments_lexer": "ipython3",
   "version": "3.10.8"
  },
  "toc": {
   "base_numbering": 1,
   "nav_menu": {},
   "number_sections": true,
   "sideBar": true,
   "skip_h1_title": false,
   "title_cell": "Table of Contents",
   "title_sidebar": "Contents",
   "toc_cell": false,
   "toc_position": {},
   "toc_section_display": true,
   "toc_window_display": false
  }
 },
 "nbformat": 4,
 "nbformat_minor": 5
}
